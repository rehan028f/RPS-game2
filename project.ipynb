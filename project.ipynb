{
 "cells": [
  {
   "cell_type": "code",
   "execution_count": null,
   "id": "da67d29e-c782-4589-9ab4-9468cae9d8e3",
   "metadata": {},
   "outputs": [
    {
     "name": "stdout",
     "output_type": "stream",
     "text": [
      "\n",
      "\n",
      "\n",
      "\n",
      "\t       WELCOME TO THE GAME >>> ROCK PAPER SCISSOR\n"
     ]
    },
    {
     "name": "stdin",
     "output_type": "stream",
     "text": [
      "\t         1> ABOUT Game\n",
      "\t         2> STARTE Game\n",
      "\t         3> HOW TO PLAY\n",
      "\t      Enter number=>> 2\n"
     ]
    },
    {
     "name": "stdout",
     "output_type": "stream",
     "text": [
      "\t\t ['rock', 'paper', 'scissor']\n"
     ]
    },
    {
     "name": "stdin",
     "output_type": "stream",
     "text": [
      "\n",
      "\n",
      "\t\tEnter your choice =>>  paper\n"
     ]
    },
    {
     "name": "stdout",
     "output_type": "stream",
     "text": [
      "\n",
      "\n",
      "\n",
      "\t\tCOMPUTER CHOICE =>  scissor\n",
      "\n",
      "\n",
      "\t\t\tCOMPUTER IS WINNER\n",
      "\n",
      "\n",
      "\n",
      "\n",
      "\n",
      "\n",
      "\n",
      "\t       WELCOME TO THE GAME >>> ROCK PAPER SCISSOR\n"
     ]
    },
    {
     "name": "stdin",
     "output_type": "stream",
     "text": [
      "\t         1> ABOUT Game\n",
      "\t         2> STARTE Game\n",
      "\t         3> HOW TO PLAY\n",
      "\t      Enter number=>> 1\n"
     ]
    },
    {
     "name": "stdout",
     "output_type": "stream",
     "text": [
      "\n",
      "\n",
      "\n",
      "\n",
      "Rock Paper Sciaaor is a game where players simultaneosly from a shape with their chois\n",
      " the shapes the game is also known as roshambo or janken . \n",
      "\t\tWHEN TO PLAY \n",
      " 1> To settle minor disagreement \n",
      " 2> To pass the time \n",
      " 3> To detrmine who gets to do somthing\n",
      "\n",
      "\n",
      "\n",
      "\n",
      "\t       WELCOME TO THE GAME >>> ROCK PAPER SCISSOR\n"
     ]
    },
    {
     "name": "stdin",
     "output_type": "stream",
     "text": [
      "\t         1> ABOUT Game\n",
      "\t         2> STARTE Game\n",
      "\t         3> HOW TO PLAY\n",
      "\t      Enter number=>> 3\n"
     ]
    },
    {
     "name": "stdout",
     "output_type": "stream",
     "text": [
      "\n",
      "\n",
      "\n",
      "\n",
      "\t\tHOW TO PLAY  \n",
      "1> Rock beats Scissor . \n",
      " Scissor beats Paper . \n",
      " and Paper beats Rock \n",
      "\n",
      "\n",
      ".\n",
      "\n",
      "\n",
      "\n",
      "\n",
      "\t       WELCOME TO THE GAME >>> ROCK PAPER SCISSOR\n"
     ]
    }
   ],
   "source": [
    "##game\n",
    "import random as rd\n",
    "l=1\n",
    "while(l<2):\n",
    "    print(\"\\n\\n\\n\\n\\t       WELCOME TO THE GAME >>> ROCK PAPER SCISSOR\")\n",
    "    us1=int(input(\"\\t         1> ABOUT Game\\n\\t         2> STARTE Game\\n\\t         3> HOW TO PLAY\\n\\t      Enter number=>>\"))\n",
    "    if us1==1:\n",
    "        print(\"\\n\\n\\n\\nRock Paper Sciaaor is a game where players simultaneosly from a shape with their chois\\n the shapes the game is also known as roshambo or janken . \\n\\t\\tWHEN TO PLAY \\n 1> To settle minor disagreement \\n 2> To pass the time \\n 3> To detrmine who gets to do somthing\")\n",
    "    elif us1==3:\n",
    "        print(\"\\n\\n\\n\\n\\t\\tHOW TO PLAY  \\n1> Rock beats Scissor . \\n Scissor beats Paper . \\n and Paper beats Rock \\n\\n\\n.\")\n",
    "    elif us1==2:\n",
    "        x=[\"rock\",\"paper\",\"scissor\"]\n",
    "        print(\"\\t\\t\",x)\n",
    "        usr=str(input(\"\\n\\n\\t\\tEnter your choice =>> \"))\n",
    "        cum=rd.choice(x)\n",
    "        print(\"\\n\\n\\n\\t\\tCOMPUTER CHOICE => \",cum)\n",
    "        if usr==\"rock\" and cum==\"rock\":\n",
    "            print(\"\\n\\n\\t\\t\\tMATCH IS TIE\\n\\n\\n\")\n",
    "        elif usr==\"paper\" and cum==\"paper\":\n",
    "            print(\"\\n\\n\\t\\t\\tMATCH IS TIE\\n\\n\\n\")\n",
    "        elif usr==\"scissor\" and cum==\"scissor\":\n",
    "            print(\"\\n\\n\\t\\t\\tMATCH IS TIE\\n\\n\\n\")\n",
    "        elif usr==\"rock\" and cum==\"paper\":\n",
    "            print(\"\\n\\n\\t\\t\\tCOMPUTER IS WINNER\\n\\n\\n\")\n",
    "        elif usr==\"rock\" and cum==\"scissor\":\n",
    "            print(\"\\n\\n\\t\\t\\tTOU ARE WINNER\\n\\n\\n\")\n",
    "        elif usr==\"paper\" and cum==\"rock\":\n",
    "            print(\"\\n\\n\\t\\t\\tTOU ARE WINNER\\n\\n\\n\")\n",
    "        elif usr==\"paper\" and cum==\"scissor\":\n",
    "            print(\"\\n\\n\\t\\t\\tCOMPUTER IS WINNER\\n\\n\\n\")\n",
    "        elif usr==\"scissor\" and cum==\"rock\":\n",
    "            print(\"\\n\\n\\t\\t\\tCOMPUTER IS WINNER\\n\\n\\n\")\n",
    "        elif usr==\"scissor\" and cum==\"paper\":\n",
    "            print(\"\\n\\n\\t\\t\\tTOU ARE WINNER\\n\\n\\n\")\n",
    "        else:\n",
    "            print(\"\\n\\n\\t\\t\\tTYPING ERROR\\n\\n\\n\")\n",
    "    \n",
    "        "
   ]
  },
  {
   "cell_type": "code",
   "execution_count": null,
   "id": "4b8be374-7585-4b46-a8a4-d678ff0f7283",
   "metadata": {},
   "outputs": [],
   "source": []
  }
 ],
 "metadata": {
  "kernelspec": {
   "display_name": "Python 3 (ipykernel)",
   "language": "python",
   "name": "python3"
  },
  "language_info": {
   "codemirror_mode": {
    "name": "ipython",
    "version": 3
   },
   "file_extension": ".py",
   "mimetype": "text/x-python",
   "name": "python",
   "nbconvert_exporter": "python",
   "pygments_lexer": "ipython3",
   "version": "3.12.7"
  }
 },
 "nbformat": 4,
 "nbformat_minor": 5
}
